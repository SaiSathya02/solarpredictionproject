{
  "nbformat": 4,
  "nbformat_minor": 0,
  "metadata": {
    "colab": {
      "provenance": []
    },
    "kernelspec": {
      "name": "python3",
      "display_name": "Python 3"
    },
    "language_info": {
      "name": "python"
    }
  },
  "cells": [
    {
      "cell_type": "code",
      "execution_count": null,
      "metadata": {
        "colab": {
          "base_uri": "https://localhost:8080/"
        },
        "id": "dkvmDUpdubqg",
        "outputId": "74133c9e-04a6-46ec-9faa-8f34d0d3b942"
      },
      "outputs": [
        {
          "output_type": "stream",
          "name": "stdout",
          "text": [
            "Requirement already satisfied: pandas in /usr/local/lib/python3.11/dist-packages (2.2.2)\n",
            "Requirement already satisfied: numpy in /usr/local/lib/python3.11/dist-packages (2.0.2)\n",
            "Requirement already satisfied: scikit-learn in /usr/local/lib/python3.11/dist-packages (1.6.1)\n",
            "Requirement already satisfied: matplotlib in /usr/local/lib/python3.11/dist-packages (3.10.0)\n",
            "Requirement already satisfied: seaborn in /usr/local/lib/python3.11/dist-packages (0.13.2)\n",
            "Requirement already satisfied: python-dateutil>=2.8.2 in /usr/local/lib/python3.11/dist-packages (from pandas) (2.9.0.post0)\n",
            "Requirement already satisfied: pytz>=2020.1 in /usr/local/lib/python3.11/dist-packages (from pandas) (2025.2)\n",
            "Requirement already satisfied: tzdata>=2022.7 in /usr/local/lib/python3.11/dist-packages (from pandas) (2025.2)\n",
            "Requirement already satisfied: scipy>=1.6.0 in /usr/local/lib/python3.11/dist-packages (from scikit-learn) (1.15.3)\n",
            "Requirement already satisfied: joblib>=1.2.0 in /usr/local/lib/python3.11/dist-packages (from scikit-learn) (1.5.0)\n",
            "Requirement already satisfied: threadpoolctl>=3.1.0 in /usr/local/lib/python3.11/dist-packages (from scikit-learn) (3.6.0)\n",
            "Requirement already satisfied: contourpy>=1.0.1 in /usr/local/lib/python3.11/dist-packages (from matplotlib) (1.3.2)\n",
            "Requirement already satisfied: cycler>=0.10 in /usr/local/lib/python3.11/dist-packages (from matplotlib) (0.12.1)\n",
            "Requirement already satisfied: fonttools>=4.22.0 in /usr/local/lib/python3.11/dist-packages (from matplotlib) (4.58.0)\n",
            "Requirement already satisfied: kiwisolver>=1.3.1 in /usr/local/lib/python3.11/dist-packages (from matplotlib) (1.4.8)\n",
            "Requirement already satisfied: packaging>=20.0 in /usr/local/lib/python3.11/dist-packages (from matplotlib) (24.2)\n",
            "Requirement already satisfied: pillow>=8 in /usr/local/lib/python3.11/dist-packages (from matplotlib) (11.2.1)\n",
            "Requirement already satisfied: pyparsing>=2.3.1 in /usr/local/lib/python3.11/dist-packages (from matplotlib) (3.2.3)\n",
            "Requirement already satisfied: six>=1.5 in /usr/local/lib/python3.11/dist-packages (from python-dateutil>=2.8.2->pandas) (1.17.0)\n"
          ]
        }
      ],
      "source": [
        "!pip install pandas numpy scikit-learn matplotlib seaborn"
      ]
    },
    {
      "cell_type": "code",
      "source": [
        "import pandas as pd\n",
        "import numpy as np\n",
        "import matplotlib.pyplot as plt\n",
        "import seaborn as sns\n",
        "from sklearn.preprocessing import StandardScaler\n",
        "import os\n",
        "\n",
        "print(\"Libraries imported successfully!\")"
      ],
      "metadata": {
        "colab": {
          "base_uri": "https://localhost:8080/"
        },
        "id": "8RDZgkGnuwKV",
        "outputId": "65383241-833d-4abd-9f55-1a9cce238678"
      },
      "execution_count": null,
      "outputs": [
        {
          "output_type": "stream",
          "name": "stdout",
          "text": [
            "Libraries imported successfully!\n"
          ]
        }
      ]
    },
    {
      "cell_type": "markdown",
      "source": [],
      "metadata": {
        "id": "rZwSZWSMTCKs"
      }
    },
    {
      "cell_type": "markdown",
      "source": [
        "**DATA BREAKDOWN**\n",
        "\n",
        "Columns names for Plant_1_Generation_Data.csv is \"DATE_TIME,PLANT_ID,SOURCE_KEY,DC_POWER,AC_POWER,DAILY_YIELD,TOTAL_YIELD\"\n",
        "\n",
        "Columns names for Plant_1_Weather_Sensor_Data.csv is DATE_TIME,PLANT_ID,SOURCE_KEY,AMBIENT_TEMPERATURE,MODULE_TEMPERATURE,IRRADIATION"
      ],
      "metadata": {
        "id": "QT788nbqVHGx"
      }
    },
    {
      "cell_type": "code",
      "source": [
        "import pandas as pd\n",
        "\n",
        "# Load datasets\n",
        "gen_df = pd.read_csv('Plant_1_Generation_Data.csv')\n",
        "weather_df = pd.read_csv('Plant_1_Weather_Sensor_Data.csv')"
      ],
      "metadata": {
        "id": "VAAIDX8mv6O0"
      },
      "execution_count": null,
      "outputs": []
    },
    {
      "cell_type": "code",
      "source": [
        "print(\"Generation Data:\")\n",
        "print(gen_df.info())\n",
        "print(gen_df.head())\n",
        "\n",
        "print(\"\\nWeather Data:\")\n",
        "print(weather_df.info())\n",
        "print(weather_df.head())"
      ],
      "metadata": {
        "colab": {
          "base_uri": "https://localhost:8080/"
        },
        "id": "heirJ95HdxsK",
        "outputId": "48cbbb49-b86e-40fb-b668-fe659363b9b4"
      },
      "execution_count": null,
      "outputs": [
        {
          "output_type": "stream",
          "name": "stdout",
          "text": [
            "Generation Data:\n",
            "<class 'pandas.core.frame.DataFrame'>\n",
            "RangeIndex: 68778 entries, 0 to 68777\n",
            "Data columns (total 7 columns):\n",
            " #   Column       Non-Null Count  Dtype  \n",
            "---  ------       --------------  -----  \n",
            " 0   DATE_TIME    68778 non-null  object \n",
            " 1   PLANT_ID     68778 non-null  int64  \n",
            " 2   SOURCE_KEY   68778 non-null  object \n",
            " 3   DC_POWER     68778 non-null  float64\n",
            " 4   AC_POWER     68778 non-null  float64\n",
            " 5   DAILY_YIELD  68778 non-null  float64\n",
            " 6   TOTAL_YIELD  68778 non-null  float64\n",
            "dtypes: float64(4), int64(1), object(2)\n",
            "memory usage: 3.7+ MB\n",
            "None\n",
            "          DATE_TIME  PLANT_ID       SOURCE_KEY  DC_POWER  AC_POWER  \\\n",
            "0  15-05-2020 00:00   4135001  1BY6WEcLGh8j5v7       0.0       0.0   \n",
            "1  15-05-2020 00:00   4135001  1IF53ai7Xc0U56Y       0.0       0.0   \n",
            "2  15-05-2020 00:00   4135001  3PZuoBAID5Wc2HD       0.0       0.0   \n",
            "3  15-05-2020 00:00   4135001  7JYdWkrLSPkdwr4       0.0       0.0   \n",
            "4  15-05-2020 00:00   4135001  McdE0feGgRqW7Ca       0.0       0.0   \n",
            "\n",
            "   DAILY_YIELD  TOTAL_YIELD  \n",
            "0          0.0    6259559.0  \n",
            "1          0.0    6183645.0  \n",
            "2          0.0    6987759.0  \n",
            "3          0.0    7602960.0  \n",
            "4          0.0    7158964.0  \n",
            "\n",
            "Weather Data:\n",
            "<class 'pandas.core.frame.DataFrame'>\n",
            "RangeIndex: 3182 entries, 0 to 3181\n",
            "Data columns (total 6 columns):\n",
            " #   Column               Non-Null Count  Dtype  \n",
            "---  ------               --------------  -----  \n",
            " 0   DATE_TIME            3182 non-null   object \n",
            " 1   PLANT_ID             3182 non-null   int64  \n",
            " 2   SOURCE_KEY           3182 non-null   object \n",
            " 3   AMBIENT_TEMPERATURE  3182 non-null   float64\n",
            " 4   MODULE_TEMPERATURE   3182 non-null   float64\n",
            " 5   IRRADIATION          3182 non-null   float64\n",
            "dtypes: float64(3), int64(1), object(2)\n",
            "memory usage: 149.3+ KB\n",
            "None\n",
            "             DATE_TIME  PLANT_ID       SOURCE_KEY  AMBIENT_TEMPERATURE  \\\n",
            "0  2020-05-15 00:00:00   4135001  HmiyD2TTLFNqkNe            25.184316   \n",
            "1  2020-05-15 00:15:00   4135001  HmiyD2TTLFNqkNe            25.084589   \n",
            "2  2020-05-15 00:30:00   4135001  HmiyD2TTLFNqkNe            24.935753   \n",
            "3  2020-05-15 00:45:00   4135001  HmiyD2TTLFNqkNe            24.846130   \n",
            "4  2020-05-15 01:00:00   4135001  HmiyD2TTLFNqkNe            24.621525   \n",
            "\n",
            "   MODULE_TEMPERATURE  IRRADIATION  \n",
            "0           22.857507          0.0  \n",
            "1           22.761668          0.0  \n",
            "2           22.592306          0.0  \n",
            "3           22.360852          0.0  \n",
            "4           22.165423          0.0  \n"
          ]
        }
      ]
    },
    {
      "cell_type": "code",
      "source": [
        "# Convert to datetime and sort\n",
        "gen_df['DATE_TIME'] = pd.to_datetime(gen_df['DATE_TIME'], format='%d-%m-%Y %H:%M')\n",
        "weather_df['DATE_TIME'] = pd.to_datetime(weather_df['DATE_TIME'], format='%Y-%m-%d %H:%M:%S')\n",
        "\n",
        "gen_df = gen_df.sort_values('DATE_TIME')\n",
        "weather_df = weather_df.sort_values('DATE_TIME')"
      ],
      "metadata": {
        "id": "OZmJqQKYd1L0"
      },
      "execution_count": null,
      "outputs": []
    },
    {
      "cell_type": "code",
      "source": [
        "# Check NaNs\n",
        "print(\"Generation Data Missing Values:\\n\", gen_df.isnull().sum())\n",
        "print(\"\\nWeather Data Missing Values:\\n\", weather_df.isnull().sum())\n",
        "\n",
        "# Forward-fill or interpolate weather data (if gaps are small)\n",
        "weather_df = weather_df.fillna(method='ffill')"
      ],
      "metadata": {
        "colab": {
          "base_uri": "https://localhost:8080/"
        },
        "id": "9PzOULyMd5FL",
        "outputId": "4648e9fe-4187-4f2d-da43-fff8d5425024"
      },
      "execution_count": null,
      "outputs": [
        {
          "output_type": "stream",
          "name": "stdout",
          "text": [
            "Generation Data Missing Values:\n",
            " DATE_TIME      0\n",
            "PLANT_ID       0\n",
            "SOURCE_KEY     0\n",
            "DC_POWER       0\n",
            "AC_POWER       0\n",
            "DAILY_YIELD    0\n",
            "TOTAL_YIELD    0\n",
            "dtype: int64\n",
            "\n",
            "Weather Data Missing Values:\n",
            " DATE_TIME              0\n",
            "PLANT_ID               0\n",
            "SOURCE_KEY             0\n",
            "AMBIENT_TEMPERATURE    0\n",
            "MODULE_TEMPERATURE     0\n",
            "IRRADIATION            0\n",
            "dtype: int64\n"
          ]
        },
        {
          "output_type": "stream",
          "name": "stderr",
          "text": [
            "<ipython-input-47-a61e876b3c79>:6: FutureWarning: DataFrame.fillna with 'method' is deprecated and will raise in a future version. Use obj.ffill() or obj.bfill() instead.\n",
            "  weather_df = weather_df.fillna(method='ffill')\n"
          ]
        }
      ]
    },
    {
      "cell_type": "code",
      "source": [
        "# Group by time to get plant-level generation stats\n",
        "agg_gen = gen_df.groupby('DATE_TIME').agg(\n",
        "    DC_POWER=('DC_POWER', 'sum'),\n",
        "    AC_POWER=('AC_POWER', 'sum'),\n",
        "    DAILY_YIELD=('DAILY_YIELD', 'max'),  # Daily yield is cumulative\n",
        "    TOTAL_YIELD=('TOTAL_YIELD', 'max')   # Total yield is cumulative\n",
        ").reset_index()"
      ],
      "metadata": {
        "id": "pyp_a4thd8tx"
      },
      "execution_count": null,
      "outputs": []
    },
    {
      "cell_type": "code",
      "source": [
        "merged_df = pd.merge_asof(\n",
        "    left=agg_gen,\n",
        "    right=weather_df[['DATE_TIME', 'AMBIENT_TEMPERATURE', 'MODULE_TEMPERATURE', 'IRRADIATION']],\n",
        "    on='DATE_TIME',\n",
        "    direction='nearest'\n",
        ")"
      ],
      "metadata": {
        "id": "RGiM6lUnd_no"
      },
      "execution_count": null,
      "outputs": []
    },
    {
      "cell_type": "code",
      "source": [
        "# Time features\n",
        "merged_df['HOUR'] = merged_df['DATE_TIME'].dt.hour\n",
        "merged_df['DAY_OF_WEEK'] = merged_df['DATE_TIME'].dt.dayofweek\n",
        "\n",
        "# Efficiency: AC/DC conversion ratio\n",
        "merged_df['CONVERSION_EFFICIENCY'] = merged_df['AC_POWER'] / merged_df['DC_POWER']\n",
        "\n",
        "# Energy loss due to heat\n",
        "merged_df['TEMP_DIFF'] = merged_df['MODULE_TEMPERATURE'] - merged_df['AMBIENT_TEMPERATURE']"
      ],
      "metadata": {
        "id": "Tlx-qNEAeMxt"
      },
      "execution_count": null,
      "outputs": []
    },
    {
      "cell_type": "code",
      "source": [
        "merged_df.to_csv('Preprocessed_SolarPlant_Data.csv', index=False)"
      ],
      "metadata": {
        "id": "evPJsMW6ePTR"
      },
      "execution_count": null,
      "outputs": []
    },
    {
      "cell_type": "code",
      "source": [
        "# When reading the preprocessed CSV\n",
        "df = pd.read_csv(\n",
        "    'Preprocessed_SolarPlant_Data.csv',\n",
        "    parse_dates=['DATE_TIME'],  # Use correct column name\n",
        "    index_col='DATE_TIME'        # Set index to existing column\n",
        ")\n",
        "\n",
        "# When working with the DataFrame\n",
        "print(df.index)  # Now properly uses DATE_TIME as datetime index"
      ],
      "metadata": {
        "colab": {
          "base_uri": "https://localhost:8080/"
        },
        "id": "L51w8QsUoDBg",
        "outputId": "23da9e39-05b8-48a7-e062-d264b1848d76"
      },
      "execution_count": null,
      "outputs": [
        {
          "output_type": "stream",
          "name": "stdout",
          "text": [
            "DatetimeIndex(['2020-05-15 00:00:00', '2020-05-15 00:15:00',\n",
            "               '2020-05-15 00:30:00', '2020-05-15 00:45:00',\n",
            "               '2020-05-15 01:00:00', '2020-05-15 01:15:00',\n",
            "               '2020-05-15 01:30:00', '2020-05-15 01:45:00',\n",
            "               '2020-05-15 02:00:00', '2020-05-15 02:15:00',\n",
            "               ...\n",
            "               '2020-06-17 21:30:00', '2020-06-17 21:45:00',\n",
            "               '2020-06-17 22:00:00', '2020-06-17 22:15:00',\n",
            "               '2020-06-17 22:30:00', '2020-06-17 22:45:00',\n",
            "               '2020-06-17 23:00:00', '2020-06-17 23:15:00',\n",
            "               '2020-06-17 23:30:00', '2020-06-17 23:45:00'],\n",
            "              dtype='datetime64[ns]', name='DATE_TIME', length=3158, freq=None)\n"
          ]
        }
      ]
    },
    {
      "cell_type": "code",
      "source": [
        "merged_df = merged_df.rename(columns={'date_time': 'DATE_TIME'})  # If you accidentally created lowercase version\n",
        "\n",
        "# Or better: maintain original case throughout\n",
        "merged_df['DATE_TIME'] = pd.to_datetime(merged_df['DATE_TIME'])  # No change needed"
      ],
      "metadata": {
        "id": "ML04dLT-odHG"
      },
      "execution_count": null,
      "outputs": []
    },
    {
      "cell_type": "code",
      "source": [
        "print(\"Final Columns:\", merged_df.columns.tolist())\n",
        "# Should output:\n",
        "# ['DATE_TIME', 'DC_POWER', ... , 'TEMP_DIFF']"
      ],
      "metadata": {
        "colab": {
          "base_uri": "https://localhost:8080/"
        },
        "id": "KWMDFEQ4oec1",
        "outputId": "7673627c-f730-44c3-9264-0fdfaf21cdc1"
      },
      "execution_count": null,
      "outputs": [
        {
          "output_type": "stream",
          "name": "stdout",
          "text": [
            "Final Columns: ['DATE_TIME', 'DC_POWER', 'AC_POWER', 'DAILY_YIELD', 'TOTAL_YIELD', 'AMBIENT_TEMPERATURE', 'MODULE_TEMPERATURE', 'IRRADIATION', 'HOUR', 'DAY_OF_WEEK', 'CONVERSION_EFFICIENCY', 'TEMP_DIFF']\n"
          ]
        }
      ]
    }
  ]
}